{
 "cells": [
  {
   "cell_type": "code",
   "execution_count": 1,
   "metadata": {},
   "outputs": [
    {
     "name": "stdout",
     "output_type": "stream",
     "text": [
      "Input nama anda : arif dan awaliza\n",
      "Selamat siang arif dan awaliza\n"
     ]
    }
   ],
   "source": [
    "import time\n",
    "nama = input (\"Input nama anda : \")\n",
    "currentTime = int (time.strftime ('%H'))\n",
    "\n",
    "if currentTime < 10 :\n",
    "    print ('Selamat pagi '+nama)\n",
    "elif currentTime < 15 :\n",
    "    print ('Selamat siang '+nama)\n",
    "elif currentTime < 18 :\n",
    "    print ('Selamat siang '+nama)\n",
    "elif currentTime < 24 :\n",
    "    print ('Selamat sore '+nama)\n",
    "elif currentTime > 24 :\n",
    "    print ('Selamat malam '+nama)"
   ]
  },
  {
   "cell_type": "code",
   "execution_count": 2,
   "metadata": {},
   "outputs": [
    {
     "name": "stdout",
     "output_type": "stream",
     "text": [
      "Angka 1: 2\n",
      "Angka 2: 4\n",
      "2,2,2,2,"
     ]
    }
   ],
   "source": [
    "angka1 = input(\"Angka 1: \")\n",
    "angka2 = input(\"Angka 2: \")\n",
    "\n",
    "for i in range(int(angka2)):\n",
    "    print(angka1,end=',')"
   ]
  },
  {
   "cell_type": "code",
   "execution_count": 2,
   "metadata": {},
   "outputs": [
    {
     "name": "stdout",
     "output_type": "stream",
     "text": [
      "Input angka 1 : 3\n",
      "Input angka 2 : 2\n",
      "Input angka 3 : 2\n",
      "3,2,"
     ]
    }
   ],
   "source": [
    "angka1 = input(\"Input angka 1 : \")\n",
    "angka2 = input(\"Input angka 2 : \")\n",
    "angka3 = input(\"Input angka 3 : \")\n",
    "\n",
    "perkalian = int(angka1)\n",
    "temp1_prev = int(angka1)\n",
    "temp2_prev = int(angka2)\n",
    "for i in range (int(angka3)):\n",
    "    print(str(perkalian),end=',')\n",
    "    if i < 1:\n",
    "        perkalian = temp2_prev\n",
    "    else:\n",
    "        perkalian = temp1_prev*temp2_prev\n",
    "    temp2_prev = temp1_prev\n",
    "    temp1_prev = perkalian"
   ]
  },
  {
   "cell_type": "code",
   "execution_count": null,
   "metadata": {
    "collapsed": true
   },
   "outputs": [],
   "source": []
  }
 ],
 "metadata": {
  "kernelspec": {
   "display_name": "Python 3",
   "language": "python",
   "name": "python3"
  },
  "language_info": {
   "codemirror_mode": {
    "name": "ipython",
    "version": 3
   },
   "file_extension": ".py",
   "mimetype": "text/x-python",
   "name": "python",
   "nbconvert_exporter": "python",
   "pygments_lexer": "ipython3",
   "version": "3.6.1"
  }
 },
 "nbformat": 4,
 "nbformat_minor": 2
}
